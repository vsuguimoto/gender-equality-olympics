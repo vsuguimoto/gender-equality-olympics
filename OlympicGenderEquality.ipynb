{
 "cells": [
  {
   "cell_type": "code",
   "execution_count": 1,
   "id": "processed-matrix",
   "metadata": {},
   "outputs": [],
   "source": [
    "import pandas as pd\n",
    "import numpy as np\n",
    "import seaborn as sns\n",
    "import matplotlib.pyplot as plt\n",
    "\n",
    "sns.set_theme()"
   ]
  },
  {
   "cell_type": "markdown",
   "id": "naked-postage",
   "metadata": {},
   "source": [
    "# Olímpiadas de 2020 e Equidade de Gênero\n",
    "\n",
    "As Olímpiadas de verão de 2020 foram um marco para a equidade de gênero, em toda a história nunca houve uma participação tão igualitária entre os sexos e isso vários jornais:"
   ]
  },
  {
   "attachments": {},
   "cell_type": "markdown",
   "id": "narrative-contemporary",
   "metadata": {},
   "source": [
    "<img src=\"./Imagens/Noticiario.png\" width=\"500\">"
   ]
  },
  {
   "cell_type": "markdown",
   "id": "collectible-amsterdam",
   "metadata": {},
   "source": [
    "Que tal entendermos isso através de dados. A seguir iremos avaliar a participação feminina ao longo de todos os jogos olímpicos de verão da idade moderna, e entender a evolução até o marco atual."
   ]
  },
  {
   "cell_type": "markdown",
   "id": "velvet-breach",
   "metadata": {},
   "source": [
    "**Fonte dos dados**  \n",
    "Usarei dois datasets diferentes:\n",
    "  1. \"120 Years of Olympic History, Athletes and Results\": contém toda a série histórica das olímpiadas de verão e inverno até 2016;\n",
    "  2. \"Tokyo Olympics 2020(2021) Dataset\": contém os dados da última olímpiada de verão."
   ]
  },
  {
   "cell_type": "code",
   "execution_count": 2,
   "id": "adjusted-champagne",
   "metadata": {},
   "outputs": [],
   "source": [
    "olympics = pd.read_csv('Dados/athlete_events.csv')\n",
    "ol2020 = pd.read_excel('Dados/EntriesGender.xlsx')"
   ]
  },
  {
   "cell_type": "code",
   "execution_count": 3,
   "id": "incident-morris",
   "metadata": {},
   "outputs": [],
   "source": [
    "# Analisaremos apenas os jogos de verão\n",
    "summerGames = olympics.loc[olympics['Season'] == 'Summer']"
   ]
  },
  {
   "cell_type": "markdown",
   "id": "unnecessary-shame",
   "metadata": {},
   "source": [
    "---"
   ]
  },
  {
   "cell_type": "markdown",
   "id": "fuzzy-setup",
   "metadata": {},
   "source": [
    "### Primeira Olimpíada"
   ]
  },
  {
   "cell_type": "code",
   "execution_count": 4,
   "id": "yellow-scanner",
   "metadata": {},
   "outputs": [],
   "source": [
    "fFirstOlympic = summerGames['Year'] == summerGames['Year'].min()\n",
    "firstOlympic = summerGames.loc[fFirstOlympic]"
   ]
  },
  {
   "cell_type": "code",
   "execution_count": 5,
   "id": "pediatric-brave",
   "metadata": {},
   "outputs": [
    {
     "data": {
      "text/plain": [
       "array(['GRE', 'GBR', 'SUI', 'USA', 'GER', 'FRA', 'HUN', 'AUS', 'AUT',\n",
       "       'DEN', 'ITA', 'SWE'], dtype=object)"
      ]
     },
     "execution_count": 5,
     "metadata": {},
     "output_type": "execute_result"
    }
   ],
   "source": [
    "# Comitês participantes\n",
    "firstOlympic.loc[:,'NOC'].unique()"
   ]
  },
  {
   "cell_type": "code",
   "execution_count": 6,
   "id": "severe-commons",
   "metadata": {},
   "outputs": [
    {
     "data": {
      "text/plain": [
       "43"
      ]
     },
     "execution_count": 6,
     "metadata": {},
     "output_type": "execute_result"
    }
   ],
   "source": [
    "# Quantos eventos diferentes ocorreram nos jogos de 1896\n",
    "len(firstOlympic.loc[:,'Event'].unique())"
   ]
  },
  {
   "cell_type": "code",
   "execution_count": 7,
   "id": "worthy-macro",
   "metadata": {
    "scrolled": true
   },
   "outputs": [
    {
     "data": {
      "text/plain": [
       "F      0.0\n",
       "M    176.0\n",
       "Name: 1896, dtype: float64"
      ]
     },
     "execution_count": 7,
     "metadata": {},
     "output_type": "execute_result"
    }
   ],
   "source": [
    "# Contagem do número de nomes diferentes para cada ano dividido por sexo\n",
    "genderByYear = summerGames[['Year', 'Sex', 'Name']].drop_duplicates().groupby(['Year', 'Sex']).count().unstack().fillna(0)\n",
    "genderByYear.columns = ['F', 'M']\n",
    "genderByYear.loc[1896]"
   ]
  },
  {
   "cell_type": "markdown",
   "id": "worst-surname",
   "metadata": {},
   "source": [
    "Ocorreu em 1896 e contou com atletas de 12 países diferentes, 43 diferentes modalidades e nenhuma mulher."
   ]
  },
  {
   "cell_type": "markdown",
   "id": "fewer-fusion",
   "metadata": {},
   "source": [
    "---"
   ]
  },
  {
   "cell_type": "markdown",
   "id": "worldwide-columbus",
   "metadata": {},
   "source": [
    "### Primeira participação feminina em uma Olimpíada\n",
    "\n",
    "A primeira aparição (e também campeã) feminina em um jogo olímpico foi Hélène de Pourtalès, em 22 de maio 1900, competindo na caravela. Apenas 23 mulheres competiram na segunda Olímpiada com 5 esportes dedicados ao gêneros, data-se desde este período a existência de esportes \"apropriados as mulheres\"."
   ]
  },
  {
   "cell_type": "markdown",
   "id": "dense-singer",
   "metadata": {},
   "source": [
    "<img src=\"./Imagens/Helene.jpg\" width=\"400\">"
   ]
  },
  {
   "cell_type": "code",
   "execution_count": 8,
   "id": "emotional-perspective",
   "metadata": {
    "scrolled": true
   },
   "outputs": [
    {
     "data": {
      "text/plain": [
       "F      23.0\n",
       "M    1197.0\n",
       "Name: 1900, dtype: float64"
      ]
     },
     "execution_count": 8,
     "metadata": {},
     "output_type": "execute_result"
    }
   ],
   "source": [
    "genderByYear.loc[1900]"
   ]
  },
  {
   "cell_type": "markdown",
   "id": "funky-elephant",
   "metadata": {},
   "source": [
    "Esportes que contavam com participação feminina:\n",
    " - Golf;\n",
    " - Tênis;\n",
    " - Caravela;\n",
    " - Cróquete;\n",
    " - Hipismo.\n",
    " \n",
    "A conquista de novos esportes foi lenta e gradual, a cada evento um ou outro esporte novo era adicionados. Há um artigo completo no wikipedia mostrando toda a história da participação feminina nas Olímpiadas disponíveis neste link:  https://en.wikipedia.org/wiki/Participation_of_women_in_the_Olympics"
   ]
  },
  {
   "cell_type": "markdown",
   "id": "soviet-smoke",
   "metadata": {},
   "source": [
    "### Primeira brasileira a competir nas Olímpiadas"
   ]
  },
  {
   "cell_type": "code",
   "execution_count": 9,
   "id": "color-attention",
   "metadata": {
    "scrolled": true
   },
   "outputs": [
    {
     "data": {
      "text/html": [
       "<div>\n",
       "<style scoped>\n",
       "    .dataframe tbody tr th:only-of-type {\n",
       "        vertical-align: middle;\n",
       "    }\n",
       "\n",
       "    .dataframe tbody tr th {\n",
       "        vertical-align: top;\n",
       "    }\n",
       "\n",
       "    .dataframe thead th {\n",
       "        text-align: right;\n",
       "    }\n",
       "</style>\n",
       "<table border=\"1\" class=\"dataframe\">\n",
       "  <thead>\n",
       "    <tr style=\"text-align: right;\">\n",
       "      <th></th>\n",
       "      <th>ID</th>\n",
       "      <th>Name</th>\n",
       "      <th>Sex</th>\n",
       "      <th>Age</th>\n",
       "      <th>Height</th>\n",
       "      <th>Weight</th>\n",
       "      <th>Team</th>\n",
       "      <th>NOC</th>\n",
       "      <th>Games</th>\n",
       "      <th>Year</th>\n",
       "      <th>Season</th>\n",
       "      <th>City</th>\n",
       "      <th>Sport</th>\n",
       "      <th>Event</th>\n",
       "      <th>Medal</th>\n",
       "    </tr>\n",
       "  </thead>\n",
       "  <tbody>\n",
       "    <tr>\n",
       "      <th>136660</th>\n",
       "      <td>68718</td>\n",
       "      <td>Maria Emma Hulda Lenk Zigler</td>\n",
       "      <td>F</td>\n",
       "      <td>17.0</td>\n",
       "      <td>168.0</td>\n",
       "      <td>NaN</td>\n",
       "      <td>Brazil</td>\n",
       "      <td>BRA</td>\n",
       "      <td>1932 Summer</td>\n",
       "      <td>1932</td>\n",
       "      <td>Summer</td>\n",
       "      <td>Los Angeles</td>\n",
       "      <td>Swimming</td>\n",
       "      <td>Swimming Women's 100 metres Freestyle</td>\n",
       "      <td>NaN</td>\n",
       "    </tr>\n",
       "  </tbody>\n",
       "</table>\n",
       "</div>"
      ],
      "text/plain": [
       "           ID                          Name Sex   Age  Height  Weight    Team  \\\n",
       "136660  68718  Maria Emma Hulda Lenk Zigler   F  17.0   168.0     NaN  Brazil   \n",
       "\n",
       "        NOC        Games  Year  Season         City     Sport  \\\n",
       "136660  BRA  1932 Summer  1932  Summer  Los Angeles  Swimming   \n",
       "\n",
       "                                        Event Medal  \n",
       "136660  Swimming Women's 100 metres Freestyle   NaN  "
      ]
     },
     "execution_count": 9,
     "metadata": {},
     "output_type": "execute_result"
    }
   ],
   "source": [
    "brasileira = (summerGames['Sex'] == 'F') & (summerGames['Team'] == 'Brazil')\n",
    "summerGames.loc[brasileira].sort_values('Year').head(1)"
   ]
  },
  {
   "cell_type": "markdown",
   "id": "living-patch",
   "metadata": {},
   "source": [
    "A primeira representante brasileira a competir nos jogos olímpicos foi Maria Lenk. Iniciou sua vida na natação nadando no rio Tietê por não ter acesso a uma piscina, ela é considerada a pioneira na natação moderna, sendo a primeira mulher a usar em competição o nado borboleta."
   ]
  },
  {
   "cell_type": "markdown",
   "id": "solid-statement",
   "metadata": {},
   "source": [
    "<img src=\"./Imagens/PrimeiraBrasileira.jpg\" width=\"200\">"
   ]
  },
  {
   "cell_type": "markdown",
   "id": "sixth-calculation",
   "metadata": {},
   "source": [
    "Maria Lenk entrou para o International Swimming Hall of Fame. Foi a primeira brasileira a ser incluída no Hall. Ainda hoje detém diversos recordes mundiais de masters, entrando para o Hall da Fama da Federação Internacional de Natação (FINA) em 1988, quando foi homenageada com o Top Ten da entidade máxima do esporte por ser um dos dez melhores nadadores master do mundo"
   ]
  },
  {
   "cell_type": "markdown",
   "id": "catholic-departure",
   "metadata": {},
   "source": [
    "---"
   ]
  },
  {
   "cell_type": "markdown",
   "id": "experienced-burner",
   "metadata": {},
   "source": [
    "### Participação ao longo do tempo"
   ]
  },
  {
   "cell_type": "code",
   "execution_count": 10,
   "id": "sorted-spider",
   "metadata": {},
   "outputs": [],
   "source": [
    "# Inserindo os dados de 2020 na análise\n",
    "genderByYear.loc[2020, 'F'] = ol2020['Female'].sum()\n",
    "genderByYear.loc[2020, 'M'] = ol2020['Male'].sum()\n",
    "\n",
    "# Análise em percentual divido por gêneros\n",
    "genderByYear['Total'] = genderByYear['M'] + genderByYear['F']\n",
    "genderByYear['F%'] = (genderByYear['F'] / genderByYear['Total']) * 100\n",
    "genderByYear['M%'] = (genderByYear['M'] / genderByYear['Total']) * 100"
   ]
  },
  {
   "cell_type": "code",
   "execution_count": 11,
   "id": "commercial-ordinary",
   "metadata": {},
   "outputs": [
    {
     "data": {
      "image/png": "[encoded data removed]",
      "text/plain": [
       "<Figure size 793x432 with 1 Axes>"
      ]
     },
     "metadata": {},
     "output_type": "display_data"
    }
   ],
   "source": [
    "# Sintaxe do seaborn\n",
    "# Plot da comparação da participação de cada gênero a partir de 1960\n",
    "g = sns.relplot(data=genderByYear[['M%', 'F%']].query('Year >= 1960'),\n",
    "                kind='line',\n",
    "                dashes=False,\n",
    "                height=6,\n",
    "                aspect=1.7)\n",
    "\n",
    "# Linha de referência em 50%\n",
    "g.map(plt.axhline, y=50, color=\".7\", dashes=(2, 1))\n",
    "\n",
    "# Labels\n",
    "g.set(xlabel='Ano', ylabel='Participação (%)', title='Participação percentual entre gêneros')\n",
    "\n",
    "plt.show()\n"
   ]
  },
  {
   "cell_type": "markdown",
   "id": "interpreted-masters",
   "metadata": {},
   "source": [
    "**Maiores aumentos no número de competidoras**"
   ]
  },
  {
   "cell_type": "code",
   "execution_count": 12,
   "id": "agricultural-independence",
   "metadata": {},
   "outputs": [],
   "source": [
    "# Comparativo entre o ano atual e o anterior\n",
    "genderByYear['FLag'] = genderByYear['F'].shift(1)\n",
    "genderByYear['FVar'] = genderByYear['F'] - genderByYear['FLag']\n",
    "genderByYear['FVar%'] = (genderByYear['F'] - genderByYear['FLag'])/genderByYear['F']"
   ]
  },
  {
   "cell_type": "code",
   "execution_count": 13,
   "id": "peaceful-hollywood",
   "metadata": {
    "scrolled": true
   },
   "outputs": [
    {
     "data": {
      "text/html": [
       "<div>\n",
       "<style scoped>\n",
       "    .dataframe tbody tr th:only-of-type {\n",
       "        vertical-align: middle;\n",
       "    }\n",
       "\n",
       "    .dataframe tbody tr th {\n",
       "        vertical-align: top;\n",
       "    }\n",
       "\n",
       "    .dataframe thead th {\n",
       "        text-align: right;\n",
       "    }\n",
       "</style>\n",
       "<table border=\"1\" class=\"dataframe\">\n",
       "  <thead>\n",
       "    <tr style=\"text-align: right;\">\n",
       "      <th></th>\n",
       "      <th>F</th>\n",
       "      <th>FLag</th>\n",
       "      <th>FVar</th>\n",
       "      <th>FVar%</th>\n",
       "    </tr>\n",
       "    <tr>\n",
       "      <th>Year</th>\n",
       "      <th></th>\n",
       "      <th></th>\n",
       "      <th></th>\n",
       "      <th></th>\n",
       "    </tr>\n",
       "  </thead>\n",
       "  <tbody>\n",
       "    <tr>\n",
       "      <th>1996</th>\n",
       "      <td>3512.0</td>\n",
       "      <td>2721.0</td>\n",
       "      <td>791.0</td>\n",
       "      <td>0.225228</td>\n",
       "    </tr>\n",
       "    <tr>\n",
       "      <th>1988</th>\n",
       "      <td>2202.0</td>\n",
       "      <td>1567.0</td>\n",
       "      <td>635.0</td>\n",
       "      <td>0.288374</td>\n",
       "    </tr>\n",
       "    <tr>\n",
       "      <th>2000</th>\n",
       "      <td>4064.0</td>\n",
       "      <td>3512.0</td>\n",
       "      <td>552.0</td>\n",
       "      <td>0.135827</td>\n",
       "    </tr>\n",
       "    <tr>\n",
       "      <th>1992</th>\n",
       "      <td>2721.0</td>\n",
       "      <td>2202.0</td>\n",
       "      <td>519.0</td>\n",
       "      <td>0.190739</td>\n",
       "    </tr>\n",
       "    <tr>\n",
       "      <th>1984</th>\n",
       "      <td>1567.0</td>\n",
       "      <td>1123.0</td>\n",
       "      <td>444.0</td>\n",
       "      <td>0.283344</td>\n",
       "    </tr>\n",
       "  </tbody>\n",
       "</table>\n",
       "</div>"
      ],
      "text/plain": [
       "           F    FLag   FVar     FVar%\n",
       "Year                                 \n",
       "1996  3512.0  2721.0  791.0  0.225228\n",
       "1988  2202.0  1567.0  635.0  0.288374\n",
       "2000  4064.0  3512.0  552.0  0.135827\n",
       "1992  2721.0  2202.0  519.0  0.190739\n",
       "1984  1567.0  1123.0  444.0  0.283344"
      ]
     },
     "execution_count": 13,
     "metadata": {},
     "output_type": "execute_result"
    }
   ],
   "source": [
    "genderByYear[['F', 'FLag', 'FVar', 'FVar%']].sort_values('FVar', ascending=False).head(5)"
   ]
  },
  {
   "cell_type": "markdown",
   "id": "defined-duplicate",
   "metadata": {},
   "source": [
    "Em Tóquio temos um aumento de 401 competidoras a mais que o ano anterior."
   ]
  },
  {
   "cell_type": "code",
   "execution_count": 14,
   "id": "failing-africa",
   "metadata": {},
   "outputs": [
    {
     "data": {
      "text/plain": [
       "F        5432.000000\n",
       "FLag     5031.000000\n",
       "FVar      401.000000\n",
       "FVar%       0.073822\n",
       "Name: 2020, dtype: float64"
      ]
     },
     "execution_count": 14,
     "metadata": {},
     "output_type": "execute_result"
    }
   ],
   "source": [
    "genderByYear.loc[2020,['F', 'FLag', 'FVar', 'FVar%']]"
   ]
  },
  {
   "cell_type": "markdown",
   "id": "likely-ideal",
   "metadata": {},
   "source": [
    "**Esportes com menor participação feminina**"
   ]
  },
  {
   "cell_type": "code",
   "execution_count": 15,
   "id": "backed-island",
   "metadata": {},
   "outputs": [],
   "source": [
    "bigFemDif = ol2020.loc[:]\n",
    "\n",
    "# Comparativo de participação percentual entre cada esporte em 2020\n",
    "bigFemDif['F%'] = [(i/j) * 100 for i,j in zip(bigFemDif['Female'], bigFemDif['Total'])]\n",
    "bigFemDif['M%'] = [(i/j) * 100 for i,j in zip(bigFemDif['Male'], bigFemDif['Total'])]\n",
    "bigFemDif['Total%'] = 100"
   ]
  },
  {
   "cell_type": "code",
   "execution_count": 16,
   "id": "solved-engineering",
   "metadata": {},
   "outputs": [],
   "source": [
    "# Seleciona-se apenas os 5 com maiores diferenças\n",
    "bigFemDifSort = bigFemDif.sort_values('F%').set_index('Discipline')[:5]\n",
    "\n",
    "# Tradução dos nomes para português\n",
    "bigFemDifSort = bigFemDifSort.rename({'Wrestling': 'Luta Profissional', 'Cycling Road': 'Ciclismo de Estrada',\n",
    "                  'Boxing': 'Boxe', 'Equestrian': 'Hipismo'})"
   ]
  },
  {
   "cell_type": "code",
   "execution_count": 17,
   "id": "yellow-puppy",
   "metadata": {
    "scrolled": false
   },
   "outputs": [
    {
     "data": {
      "image/png": "[encoded data removed]",
      "text/plain": [
       "<Figure size 864x432 with 1 Axes>"
      ]
     },
     "metadata": {},
     "output_type": "display_data"
    }
   ],
   "source": [
    "fig, ax = plt.subplots(figsize=(12,6))\n",
    "\n",
    "# Primeira barra: % masculino em dado esporte, no caso utiliza-se 100% dado a sobreposição\n",
    "sns.barplot(data=bigFemDifSort,\n",
    "            y=bigFemDifSort.index,\n",
    "            x='Total%',\n",
    "            color='#3772FF',\n",
    "            label='Masculino')\n",
    "\n",
    "# Segunda barra: % feminino em dado esporte\n",
    "sns.barplot(data=bigFemDifSort,\n",
    "            y=bigFemDifSort.index,\n",
    "            x='F%',\n",
    "            color='#EF2917',\n",
    "            label='Feminino')\n",
    "\n",
    "# Linha de referência em 50%\n",
    "plt.axvline(x=50, color='#080708')\n",
    "\n",
    "# Labels\n",
    "ax.set_title('Esportes com menor participação feminina em 2020')\n",
    "ax.set_xlabel('Participação (%)')\n",
    "ax.set_ylabel('Esporte')\n",
    "\n",
    "# Legenda\n",
    "ax.legend(ncol=2, loc=\"lower right\", frameon=True)\n",
    "\n",
    "plt.show()"
   ]
  },
  {
   "cell_type": "code",
   "execution_count": null,
   "id": "taken-declaration",
   "metadata": {},
   "outputs": [],
   "source": []
  }
 ],
 "metadata": {
  "kernelspec": {
   "display_name": "Python 3",
   "language": "python",
   "name": "python3"
  },
  "language_info": {
   "codemirror_mode": {
    "name": "ipython",
    "version": 3
   },
   "file_extension": ".py",
   "mimetype": "text/x-python",
   "name": "python",
   "nbconvert_exporter": "python",
   "pygments_lexer": "ipython3",
   "version": "3.8.8"
  }
 },
 "nbformat": 4,
 "nbformat_minor": 5
}
